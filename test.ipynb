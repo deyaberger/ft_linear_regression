{
 "metadata": {
  "language_info": {
   "codemirror_mode": {
    "name": "ipython",
    "version": 3
   },
   "file_extension": ".py",
   "mimetype": "text/x-python",
   "name": "python",
   "nbconvert_exporter": "python",
   "pygments_lexer": "ipython3",
   "version": "3.8.3"
  },
  "orig_nbformat": 2,
  "kernelspec": {
   "name": "python383jvsc74a57bd0b2be0b0f352541e0037497dc3ac059aae78abe45f3eab5e4b80a4fb086df619c",
   "display_name": "Python 3.8.3 64-bit (conda)"
  }
 },
 "nbformat": 4,
 "nbformat_minor": 2,
 "cells": [
  {
   "cell_type": "code",
   "execution_count": 8,
   "metadata": {},
   "outputs": [],
   "source": [
    "import pandas as pd"
   ]
  },
  {
   "cell_type": "code",
   "execution_count": 25,
   "metadata": {},
   "outputs": [],
   "source": [
    "class Datapoint():\n",
    "    def __init__(self, km, price):\n",
    "        self.km = km\n",
    "        self.price = price\n",
    "\n",
    "    def __str__(self):\n",
    "        return (f\"km: {self.km}, price {self.price}\")\n",
    "\n",
    "\n",
    "class Dataset():\n",
    "    def __init__(self, data = None, path = None):\n",
    "        self.data = data\n",
    "        if (path != None):\n",
    "            self.import_csv(path)\n",
    "\n",
    "    def import_csv(self, path):\n",
    "        self.data = pd.read_csv(path)\n",
    "\n",
    "    def __getitem__(self, i):\n",
    "        return Datapoint(self.data[\"km\"][i], self.data[\"price\"][i])\n",
    "    \n",
    "    def __len__(self):\n",
    "        return (self.data.shape[0])"
   ]
  },
  {
   "cell_type": "code",
   "execution_count": null,
   "metadata": {},
   "outputs": [],
   "source": [
    "class Irma():\n",
    "    def __init__(self, dataset):\n",
    "        self.dataset = dataset \n",
    "        self.theta0 = 0.0\n",
    "        self.theta1 = 0.0\n",
    "        self.learning_rate = 0.05\n",
    "        self.minimal_improvement = 0.1\n",
    "\n",
    "    def predict_price(self, km):\n",
    "        return (self.theta0 + (theta1 * km))\n",
    "\n",
    "    def error_datapoint(self, datapoint):\n",
    "        error = self.predict_price(datapoint.km) - datapoint.price\n",
    "        return (error)\n",
    "\n",
    "    def squared_error_datapoint(self, datapoint):\n",
    "        return (self.error_datapoint(datapoint)**2)\n",
    "    \n",
    "    def mean_squared_error_dataset(self):\n",
    "        total_error = 0\n",
    "        for i in range(len(self.dataset)):\n",
    "            total_error += self.squared_error_datapoint(self.dataset[i])\n",
    "        return (total_error / (2 * len(self.dataset)))\n",
    "    \n",
    "    def update_thetas(self):\n",
    "        sum_errors_t0 = 0\n",
    "        sum_errors_t1 = 0\n",
    "        for i in len(self.dataset):\n",
    "            sum_errors_t0 += self.error_datapoint(self.dataset[i])\n",
    "            sum_errors_t1 += (self.error_datapoint(self.dataset[i]) * self.dataset[i].km)\n",
    "        temp0 = self.theta0 - (self.learning_rate / len(self.dataset) * sum_errors_t0)\n",
    "        temp1 = self.theta1 - (self.learning_rate / len(self.dataset) * sum_errors_t1)\n",
    "        self.theta0 = temp0\n",
    "        self.theta1 = temp1\n",
    "    \n",
    "    def compare_cost(self):\n",
    "        oldcost = mean_squared_error_dataset()\n",
    "        jesus_theta0 = self.theta0\n",
    "        jesus_theta1 = self.theta1\n",
    "        self.update_thetas()\n",
    "        newcost = mean_squared_error_dataset()\n",
    "        while (newcost <= oldcost):\n",
    "            oldcost = newcost\n",
    "            jesus_theta0 = self.theta0\n",
    "            jesus_theta1 = self.theta1\n",
    "            self.update_thetas()\n",
    "            newcost = mean_squared_error_dataset()\n",
    "        \n"
   ]
  },
  {
   "cell_type": "code",
   "execution_count": 29,
   "metadata": {},
   "outputs": [
    {
     "output_type": "stream",
     "name": "stdout",
     "text": [
      "240000\n139800\n150500\n185530\n176000\n114800\n166800\n89000\n144500\n84000\n82029\n63060\n74000\n97500\n67000\n76025\n48235\n93000\n60949\n65674\n54000\n68500\n22899\n61789\n"
     ]
    }
   ],
   "source": [
    "datasetto =  Dataset(path = \"data.csv\")\n"
   ]
  },
  {
   "cell_type": "code",
   "execution_count": 14,
   "metadata": {},
   "outputs": [
    {
     "output_type": "execute_result",
     "data": {
      "text/plain": [
       "240000"
      ]
     },
     "metadata": {},
     "execution_count": 14
    }
   ],
   "source": [
    "df = pd.read_csv(\"data.csv\")\n",
    "df[\"km\"][0]"
   ]
  },
  {
   "cell_type": "code",
   "execution_count": 30,
   "metadata": {},
   "outputs": [
    {
     "output_type": "execute_result",
     "data": {
      "text/plain": [
       "16"
      ]
     },
     "metadata": {},
     "execution_count": 30
    }
   ],
   "source": [
    "4**2"
   ]
  },
  {
   "cell_type": "code",
   "execution_count": null,
   "metadata": {},
   "outputs": [],
   "source": []
  }
 ]
}