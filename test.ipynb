{
 "metadata": {
  "language_info": {
   "codemirror_mode": {
    "name": "ipython",
    "version": 3
   },
   "file_extension": ".py",
   "mimetype": "text/x-python",
   "name": "python",
   "nbconvert_exporter": "python",
   "pygments_lexer": "ipython3",
   "version": "3.8.5"
  },
  "orig_nbformat": 2,
  "kernelspec": {
   "name": "python385jvsc74a57bd08e39635f1b7224350e28029758dd00aee7fd9123a8e7c8d9b4a9463076658cd2",
   "display_name": "Python 3.8.5 64-bit ('base': conda)"
  }
 },
 "nbformat": 4,
 "nbformat_minor": 2,
 "cells": [
  {
   "cell_type": "code",
   "execution_count": 1,
   "metadata": {},
   "outputs": [],
   "source": [
    "import pandas as pd"
   ]
  },
  {
   "cell_type": "code",
   "execution_count": 2,
   "metadata": {},
   "outputs": [],
   "source": [
    "class Datapoint():\n",
    "    def __init__(self, km, price):\n",
    "        self.km = km\n",
    "        self.price = price\n",
    "\n",
    "    def __str__(self):\n",
    "        return (f\"km: {self.km}, price {self.price}\")\n",
    "        \n",
    "    def __repr__(self):\n",
    "        return (f\"km: {self.km}, price {self.price}\")\n"
   ]
  },
  {
   "cell_type": "code",
   "execution_count": 3,
   "metadata": {},
   "outputs": [],
   "source": [
    "class Dataset():\n",
    "    def __init__(self, data = None, path = None):\n",
    "        self.data = data\n",
    "        self.index = 0\n",
    "        if (path != None):\n",
    "            self.import_csv(path)\n",
    "\n",
    "\n",
    "    def import_csv(self, path):\n",
    "        self.data = pd.read_csv(path)\n",
    "\n",
    "\n",
    "    def __getitem__(self, i):\n",
    "        return Datapoint(self.data[\"km\"][i], self.data[\"price\"][i])\n",
    "    \n",
    "\n",
    "    def __len__(self):\n",
    "        return (self.data.shape[0])\n",
    "    \n",
    "\n",
    "    def __iter__(self):\n",
    "        return (self)\n",
    "    \n",
    "\n",
    "    def __next__(self):\n",
    "        if self.index < len(self.data):\n",
    "            result = self[self.index]\n",
    "            self.index += 1\n",
    "            return(result)\n",
    "        self.index = 0\n",
    "        raise StopIteration"
   ]
  },
  {
   "cell_type": "code",
   "execution_count": 34,
   "metadata": {},
   "outputs": [],
   "source": [
    "class Irma():\n",
    "    def __init__(self, dataset):\n",
    "        self.dataset = dataset \n",
    "        self.theta0 = 0.0\n",
    "        self.theta1 = 0.0\n",
    "        self.oldtheta0 = 0.0\n",
    "        self.oldtheta1 = 0.0\n",
    "        self.middletheta0 = 0.0\n",
    "        self.middletheta1 = 0.0\n",
    "        self.learning_rate = 0.0001\n",
    "        self.learning_rate_decay = 1.0 / 20\n",
    "        self.minimal_improvement = 0.001\n",
    "        self.newcost = 0\n",
    "        self.oldcost = 0\n",
    "        self.middle_cost = 0\n",
    "\n",
    "\n",
    "    def predict_price(self, theta0, theta1, km):\n",
    "        return (theta0 + (theta1 * km))\n",
    "\n",
    "\n",
    "    def error_datapoint(self, datapoint, theta0, theta1):\n",
    "        error = self.predict_price(theta0, theta1, datapoint.km) - datapoint.price\n",
    "        return (error)\n",
    "\n",
    "\n",
    "    def squared_error_datapoint(self, datapoint, theta0, theta1):\n",
    "        return ((self.error_datapoint(datapoint, theta0, theta1))**2)\n",
    "    \n",
    "\n",
    "    def mean_squared_error_dataset(self, theta0, theta1):\n",
    "        total_error = 0.0\n",
    "        for elem in self.dataset:\n",
    "            total_error += self.squared_error_datapoint(elem, theta0, theta1)\n",
    "        return (total_error / (2 * len(self.dataset)))\n",
    "    \n",
    "    def middle_thetas(self):\n",
    "        self.middle_theta0 = (self.theta0 + self.oldtheta0) / 2\n",
    "        self.middle_theta1 = (self.theta1 + self.oldtheta1) / 2\n",
    "\n",
    "    def update_middle_error(self):\n",
    "        self.middle_thetas()\n",
    "        self.middle_cost = self.mean_squared_error_dataset(self.middle_theta0, self.middle_theta1)\n",
    "\n",
    "    def update_thetas(self):\n",
    "        self.oldtheta0 = self.theta0\n",
    "        self.oldtheta1 = self.theta1\n",
    "        sum_errors_t0 = 0.0\n",
    "        sum_errors_t1 = 0.0\n",
    "        for elem in self.dataset:\n",
    "            sum_errors_t0 += self.error_datapoint(elem, self.theta0, self.theta1)\n",
    "            sum_errors_t1 += (self.error_datapoint(elem, self.theta0, self.theta1) * elem.km)\n",
    "        temp0 = self.theta0 - (self.learning_rate / len(self.dataset) * sum_errors_t0)\n",
    "        temp1 = self.theta1 - (self.learning_rate / len(self.dataset) * sum_errors_t1)\n",
    "        self.theta0 = temp0\n",
    "        self.theta1 = temp1\n",
    "    \n",
    "    \n",
    "    def should_i_keep_learning(self):\n",
    "        cost_is_changing = abs(self.oldcost - self.newcost) > self.minimal_improvement\n",
    "        self.update_middle_error()\n",
    "        if (cost_is_changing == False):\n",
    "            if (abs(self.oldcost - self.middle_cost) > self.minimal_improvement):\n",
    "                if self.middle_cost < self.oldcost:\n",
    "                    self.theta0, self.theta1 = self.middle_theta0, self.middle_theta1\n",
    "                return True\n",
    "        return cost_is_changing\n",
    "    \n",
    "    def decrease_and_assign(self, theta0, theta1):\n",
    "        self.learning_rate = self.learning_rate * self.learning_rate_decay\n",
    "        self.theta0, self.theta1 = theta0, theta1\n",
    "\n",
    "    def training_loop(self):\n",
    "        go_on = True\n",
    "        self.newcost = self.mean_squared_error_dataset(self.theta0, self.theta1)\n",
    "        print(self)\n",
    "        i = 0\n",
    "        while (go_on):\n",
    "            self.oldcost = self.newcost\n",
    "            self.update_thetas()\n",
    "            self.newcost = self.mean_squared_error_dataset(self.theta0, self.theta1)\n",
    "            go_on = self.should_i_keep_learning()\n",
    "            if (self.middle_cost < self.newcost and self.middle_cost < self.oldcost):\n",
    "                self.decrease_and_assign(self.middle_theta0, self.middle_theta1)\n",
    "            if (self.newcost > self.oldcost):\n",
    "                self.decrease_and_assign(self.oldtheta0, self.oldtheta1)\n",
    "            print(self)\n",
    "            i += 1\n",
    "\n",
    "\n",
    "    def __str__(self):\n",
    "        return (f\"error: {self.newcost}, \\tthetas: [{self.theta0}, {self.theta1}], lr: {self.learning_rate}\")\n",
    "\n",
    "    def __repr__(self):\n",
    "        return (f\"error: {self.newcost}, \\tthetas: [{self.theta0}, {self.theta1}], lr: {self.learning_rate}\")"
   ]
  },
  {
   "cell_type": "code",
   "execution_count": 35,
   "metadata": {},
   "outputs": [],
   "source": [
    "datasetto =  Dataset(path = \"data.csv\")\n",
    "irma = Irma(datasetto)"
   ]
  },
  {
   "cell_type": "code",
   "execution_count": 36,
   "metadata": {
    "tags": []
   },
   "outputs": [
    {
     "output_type": "stream",
     "name": "stdout",
     "text": [
      "error: 20880519.291666668, \tthetas: [0.0, 0.0], lr: 0.0001\nerror: 2.1870210985011356e+19, \tthetas: [0.0, 0.0], lr: 5e-06\nerror: 5.467391355042436e+16, \tthetas: [0.015829583333333334, 1457.256313541667], lr: 2.5000000000000004e-07\nerror: 1.4148171068379791e+23, \tthetas: [0.015829583333333334, 1457.256313541667], lr: 1.2500000000000003e-08\nerror: 3.495390098212294e+20, \tthetas: [-0.9046272859227715, -115787.7184912073], lr: 6.250000000000002e-10\nerror: 4.284040438033102e+21, \tthetas: [-0.9046272859227715, -115787.7184912073], lr: 3.1250000000000015e-11\nerror: 3.082937443591835e+19, \tthetas: [-0.5389323847758982, -69207.18509200457], lr: 3.1250000000000015e-11\nerror: 1.10139301651828e+19, \tthetas: [-0.3203537284422396, -41365.64466658989], lr: 3.1250000000000015e-11\nerror: 3.9347751909714734e+18, \tthetas: [-0.18970757477228864, -24724.543401887193], lr: 3.1250000000000015e-11\nerror: 1.4057158136395868e+18, \tthetas: [-0.1116193492531004, -14778.03013176286], lr: 3.1250000000000015e-11\nerror: 5.021981823162366e+17, \tthetas: [-0.06494539863593693, -8832.923214914419], lr: 3.1250000000000015e-11\nerror: 1.7941251843301587e+17, \tthetas: [-0.0370479999556987, -5279.48742360849], lr: 3.1250000000000015e-11\nerror: 6.409591453240646e+16, \tthetas: [-0.020373489715178283, -3155.571722925408], lr: 3.1250000000000015e-11\nerror: 2.2898548530485628e+16, \tthetas: [-0.010406985574684, -1886.0910938832108], lr: 3.1250000000000015e-11\nerror: 8180607591476989.0, \tthetas: [-0.0044499078915304245, -1127.3128302284601], lr: 3.1250000000000015e-11\nerror: 2922558193997386.5, \tthetas: [-0.0008892950113472864, -673.7852692531437], lr: 3.1250000000000015e-11\nerror: 1044096826275807.1, \tthetas: [0.0012389325606176572, -402.7083836640641], lr: 3.1250000000000015e-11\nerror: 373008207041107.5, \tthetas: [0.0025110124985108645, -240.6836596480649], lr: 3.1250000000000015e-11\nerror: 133258834174001.33, \tthetas: [0.0032713664593773824, -143.8402451481077], lr: 3.1250000000000015e-11\nerror: 47607311941781.195, \tthetas: [0.0037258578970730673, -85.9561969636812], lr: 3.1250000000000015e-11\nerror: 17007927372116.592, \tthetas: [0.003997532969603946, -51.35845945600082], lr: 3.1250000000000015e-11\nerror: 6076162102333.624, \tthetas: [0.004159937304989285, -30.679127615965545], lr: 3.1250000000000015e-11\nerror: 2170740683103.328, \tthetas: [0.004257029686570238, -18.318933101646103], lr: 3.1250000000000015e-11\nerror: 775511634054.6395, \tthetas: [0.00431508461474713, -10.931150478223092], lr: 3.1250000000000015e-11\nerror: 277059894704.8386, \tthetas: [0.004349806558998317, -6.515416403187353], lr: 3.1250000000000015e-11\nerror: 98985809571.47246, \tthetas: [0.0043705822006246346, -3.8760984352208308], lr: 3.1250000000000015e-11\nerror: 35368056251.061516, \tthetas: [0.004383022030700928, -2.2985579362553787], lr: 3.1250000000000015e-11\nerror: 12640332930.14398, \tthetas: [0.004390479482575159, -1.3556499365067298], lr: 3.1250000000000015e-11\nerror: 4520753404.117975, \tthetas: [0.004394958928960731, -0.7920666265549776], lr: 3.1250000000000015e-11\nerror: 1619997760.9522188, \tthetas: [0.004397658398730558, -0.45520857959729266], lr: 3.1250000000000015e-11\nerror: 583689997.1834964, \tthetas: [0.004399293962888164, -0.2538659532341718], lr: 3.1250000000000015e-11\nerror: 213464472.059497, \tthetas: [0.004400293622539104, -0.13352192833436538], lr: 3.1250000000000015e-11\nerror: 81199768.22777699, \tthetas: [0.004400913197211684, -0.06159138590192623], lr: 3.1250000000000015e-11\nerror: 33947618.67961143, \tthetas: [0.004401305592190991, -0.0185979515463427], lr: 3.1250000000000015e-11\nerror: 17066579.57965469, \tthetas: [0.004401562200133257, 0.0070995523953104565], lr: 3.1250000000000015e-11\nerror: 11035753.811492102, \tthetas: [0.004401737647126835, 0.02245914668514236], lr: 3.1250000000000015e-11\nerror: 8881214.672565594, \tthetas: [0.00440186458360177, 0.03163969345272342], lr: 3.1250000000000015e-11\nerror: 8111496.05029798, \tthetas: [0.0044019625249693654, 0.03712697634316197], lr: 3.1250000000000015e-11\nerror: 7836510.673217998, \tthetas: [0.004402043135739944, 0.04040676721851453], lr: 3.1250000000000015e-11\nerror: 7738270.932810423, \tthetas: [0.004402113387880378, 0.04236712326365433], lr: 3.1250000000000015e-11\nerror: 7703174.35164392, \tthetas: [0.004402177448588493, 0.043538843037731215], lr: 3.1250000000000015e-11\nerror: 7690635.942967601, \tthetas: [0.0044022378086302424, 0.04423918889185805], lr: 3.1250000000000015e-11\nerror: 7686156.541034258, \tthetas: [0.004402295956755453, 0.044657790955391026], lr: 3.1250000000000015e-11\nerror: 7684556.254849839, \tthetas: [0.004402352782801262, 0.04490799260435162], lr: 3.1250000000000015e-11\nerror: 7683984.545481403, \tthetas: [0.0044024088186301194, 0.04505754003989236], lr: 3.1250000000000015e-11\nerror: 7683780.299722858, \tthetas: [0.004402464382140272, 0.04514692568364123], lr: 3.1250000000000015e-11\nerror: 7683707.331961726, \tthetas: [0.004402519663341928, 0.04520035216513913], lr: 3.1250000000000015e-11\nerror: 7683681.263844916, \tthetas: [0.0044025747758056405, 0.04523228558083432], lr: 3.1250000000000015e-11\nerror: 7683671.95083316, \tthetas: [0.004402629787413396, 0.04525137242701336], lr: 3.1250000000000015e-11\nerror: 7683668.623656678, \tthetas: [0.0044026847387387755, 0.045262780780517216], lr: 3.1250000000000015e-11\nerror: 7683667.43494628, \tthetas: [0.004402739654032919, 0.045269599640328714], lr: 3.1250000000000015e-11\nerror: 7683667.010212335, \tthetas: [0.0044027945477909175, 0.04527367532472243], lr: 3.1250000000000015e-11\nerror: 7683666.858412352, \tthetas: [0.004402849428676597, 0.04527611139222654], lr: 3.1250000000000015e-11\nerror: 7683666.80411923, \tthetas: [0.004402904301868394, 0.045277567448198296], lr: 3.1250000000000015e-11\nerror: 7683666.784660869, \tthetas: [0.004402959170461498, 0.045278437743795405], lr: 3.1250000000000015e-11\nerror: 7683666.777647379, \tthetas: [0.004403014036305927, 0.04527895792594468], lr: 3.1250000000000015e-11\nerror: 7683666.775079872, \tthetas: [0.004403068900507454, 0.04527926884261328], lr: 3.1250000000000015e-11\nerror: 7683666.774100714, \tthetas: [0.004403123763727004, 0.04527945467970649], lr: 3.1250000000000015e-11\n"
     ]
    }
   ],
   "source": [
    "irma.training_loop()"
   ]
  },
  {
   "cell_type": "code",
   "execution_count": 41,
   "metadata": {},
   "outputs": [],
   "source": [
    "import matplotlib.pyplot as plt"
   ]
  },
  {
   "cell_type": "code",
   "execution_count": 43,
   "metadata": {},
   "outputs": [
    {
     "output_type": "error",
     "ename": "AttributeError",
     "evalue": "'Datapoint' object has no attribute 'prices'",
     "traceback": [
      "\u001b[0;31m---------------------------------------------------------------------------\u001b[0m",
      "\u001b[0;31mAttributeError\u001b[0m                            Traceback (most recent call last)",
      "\u001b[0;32m<ipython-input-43-f9b8ff96ff4f>\u001b[0m in \u001b[0;36m<module>\u001b[0;34m\u001b[0m\n\u001b[1;32m      1\u001b[0m \u001b[0mkms\u001b[0m \u001b[0;34m=\u001b[0m \u001b[0;34m[\u001b[0m\u001b[0melem\u001b[0m\u001b[0;34m.\u001b[0m\u001b[0mkm\u001b[0m \u001b[0;32mfor\u001b[0m \u001b[0melem\u001b[0m \u001b[0;32min\u001b[0m \u001b[0mdatasetto\u001b[0m\u001b[0;34m]\u001b[0m\u001b[0;34m\u001b[0m\u001b[0;34m\u001b[0m\u001b[0m\n\u001b[0;32m----> 2\u001b[0;31m \u001b[0mprices\u001b[0m \u001b[0;34m=\u001b[0m \u001b[0;34m[\u001b[0m\u001b[0melem\u001b[0m\u001b[0;34m.\u001b[0m\u001b[0mprices\u001b[0m \u001b[0;32mfor\u001b[0m \u001b[0melem\u001b[0m \u001b[0;32min\u001b[0m \u001b[0mdatasetto\u001b[0m\u001b[0;34m]\u001b[0m\u001b[0;34m\u001b[0m\u001b[0;34m\u001b[0m\u001b[0m\n\u001b[0m\u001b[1;32m      3\u001b[0m \u001b[0;34m\u001b[0m\u001b[0m\n\u001b[1;32m      4\u001b[0m \u001b[0mprint\u001b[0m\u001b[0;34m(\u001b[0m\u001b[0mkms\u001b[0m\u001b[0;34m)\u001b[0m\u001b[0;34m\u001b[0m\u001b[0;34m\u001b[0m\u001b[0m\n\u001b[1;32m      5\u001b[0m \u001b[0mprint\u001b[0m\u001b[0;34m(\u001b[0m\u001b[0mprices\u001b[0m\u001b[0;34m)\u001b[0m\u001b[0;34m\u001b[0m\u001b[0;34m\u001b[0m\u001b[0m\n",
      "\u001b[0;32m<ipython-input-43-f9b8ff96ff4f>\u001b[0m in \u001b[0;36m<listcomp>\u001b[0;34m(.0)\u001b[0m\n\u001b[1;32m      1\u001b[0m \u001b[0mkms\u001b[0m \u001b[0;34m=\u001b[0m \u001b[0;34m[\u001b[0m\u001b[0melem\u001b[0m\u001b[0;34m.\u001b[0m\u001b[0mkm\u001b[0m \u001b[0;32mfor\u001b[0m \u001b[0melem\u001b[0m \u001b[0;32min\u001b[0m \u001b[0mdatasetto\u001b[0m\u001b[0;34m]\u001b[0m\u001b[0;34m\u001b[0m\u001b[0;34m\u001b[0m\u001b[0m\n\u001b[0;32m----> 2\u001b[0;31m \u001b[0mprices\u001b[0m \u001b[0;34m=\u001b[0m \u001b[0;34m[\u001b[0m\u001b[0melem\u001b[0m\u001b[0;34m.\u001b[0m\u001b[0mprices\u001b[0m \u001b[0;32mfor\u001b[0m \u001b[0melem\u001b[0m \u001b[0;32min\u001b[0m \u001b[0mdatasetto\u001b[0m\u001b[0;34m]\u001b[0m\u001b[0;34m\u001b[0m\u001b[0;34m\u001b[0m\u001b[0m\n\u001b[0m\u001b[1;32m      3\u001b[0m \u001b[0;34m\u001b[0m\u001b[0m\n\u001b[1;32m      4\u001b[0m \u001b[0mprint\u001b[0m\u001b[0;34m(\u001b[0m\u001b[0mkms\u001b[0m\u001b[0;34m)\u001b[0m\u001b[0;34m\u001b[0m\u001b[0;34m\u001b[0m\u001b[0m\n\u001b[1;32m      5\u001b[0m \u001b[0mprint\u001b[0m\u001b[0;34m(\u001b[0m\u001b[0mprices\u001b[0m\u001b[0;34m)\u001b[0m\u001b[0;34m\u001b[0m\u001b[0;34m\u001b[0m\u001b[0m\n",
      "\u001b[0;31mAttributeError\u001b[0m: 'Datapoint' object has no attribute 'prices'"
     ]
    }
   ],
   "source": [
    "kms = [elem.km for elem in datasetto]\n",
    "prices = [elem.prices for elem in datasetto]\n",
    "\n",
    "print(kms)\n",
    "print(prices)"
   ]
  },
  {
   "cell_type": "code",
   "execution_count": null,
   "metadata": {},
   "outputs": [],
   "source": []
  },
  {
   "cell_type": "code",
   "execution_count": null,
   "metadata": {},
   "outputs": [],
   "source": []
  }
 ]
}