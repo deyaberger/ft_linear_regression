{
 "metadata": {
  "language_info": {
   "codemirror_mode": {
    "name": "ipython",
    "version": 3
   },
   "file_extension": ".py",
   "mimetype": "text/x-python",
   "name": "python",
   "nbconvert_exporter": "python",
   "pygments_lexer": "ipython3",
   "version": "3.8.3"
  },
  "orig_nbformat": 2,
  "kernelspec": {
   "name": "python383jvsc74a57bd0b2be0b0f352541e0037497dc3ac059aae78abe45f3eab5e4b80a4fb086df619c",
   "display_name": "Python 3.8.3 64-bit (conda)"
  }
 },
 "nbformat": 4,
 "nbformat_minor": 2,
 "cells": [
  {
   "cell_type": "code",
   "execution_count": null,
   "metadata": {},
   "outputs": [],
   "source": [
    "import pandas as pd"
   ]
  },
  {
   "cell_type": "code",
   "execution_count": 81,
   "metadata": {},
   "outputs": [],
   "source": [
    "class Datapoint():\n",
    "    def __init__(self, km, price):\n",
    "        self.km = km\n",
    "        self.price = price\n",
    "\n",
    "\n",
    "    def __str__(self):\n",
    "        return (f\"km: {self.km}, price {self.price}\")\n",
    "\n",
    "\n",
    "    def __repr__(self):\n",
    "        return (f\"km: {self.km}, price {self.price}\")\n",
    "\n",
    "class Dataset():\n",
    "    def __init__(self, data = None, path = None):\n",
    "        self.data = data\n",
    "        if (path != None):\n",
    "            self.import_csv(path)\n",
    "\n",
    "\n",
    "    def import_csv(self, path):\n",
    "        self.data = pd.read_csv(path)\n",
    "\n",
    "\n",
    "    def __getitem__(self, i):\n",
    "        return Datapoint(self.data[\"km\"][i], self.data[\"price\"][i])\n",
    "    \n",
    "\n",
    "    def __len__(self):\n",
    "        return (self.data.shape[0])"
   ]
  },
  {
   "cell_type": "code",
   "execution_count": 82,
   "metadata": {},
   "outputs": [],
   "source": [
    "class Irma():\n",
    "    def __init__(self, dataset):\n",
    "        self.dataset = dataset \n",
    "        self.theta0 = 0.0\n",
    "        self.theta1 = 0.0\n",
    "        self.oldtheta0 = 0.0\n",
    "        self.oldtheta1 = 0.0\n",
    "        self.learning_rate = 0.0000000001\n",
    "        self.learning_rate_decay = 1.0 / 20\n",
    "        self.minimal_improvement = 0.000000001\n",
    "        self.newcost = 0\n",
    "        self.oldcost = 0\n",
    "\n",
    "\n",
    "    def predict_price(self, km):\n",
    "        return (self.theta0 + (self.theta1 * km))\n",
    "\n",
    "\n",
    "    def error_datapoint(self, datapoint):\n",
    "        error = self.predict_price(datapoint.km) - datapoint.price\n",
    "        return (error)\n",
    "\n",
    "\n",
    "    def squared_error_datapoint(self, datapoint):\n",
    "        return ((self.error_datapoint(datapoint))**2)\n",
    "    \n",
    "\n",
    "    def mean_squared_error_dataset(self):\n",
    "        total_error = 0.0\n",
    "        for i in range(len(self.dataset)):\n",
    "            total_error += self.squared_error_datapoint(self.dataset[i])\n",
    "        return (total_error / (2 * len(self.dataset)))\n",
    "    \n",
    "\n",
    "    def middle_error(self):\n",
    "        jesus_theta0, jesus_theta1 = self.theta0, self.theta1\n",
    "        mean_theta0 = (self.theta0 + self.oldtheta0) / 2\n",
    "        mean_theta1 = (self.theta1 + self.oldtheta1) / 2\n",
    "        temp_cost = self.mean_squared_error_dataset()\n",
    "        self.theta0, self.theta1 = jesus_theta0, jesus_theta1\n",
    "        return temp_cost\n",
    "\n",
    "\n",
    "    def update_thetas(self):\n",
    "        # self.oldtheta0 = self.theta0\n",
    "        # self.oldtheta1 = self.theta1\n",
    "        sum_errors_t0 = 0.0\n",
    "        sum_errors_t1 = 0.0\n",
    "        for i in range(len(self.dataset)):\n",
    "            sum_errors_t0 += self.error_datapoint(self.dataset[i])\n",
    "            sum_errors_t1 += (self.error_datapoint(self.dataset[i]) * self.dataset[i].km)\n",
    "        temp0 = self.theta0 - (self.learning_rate / len(self.dataset) * sum_errors_t0)\n",
    "        temp1 = self.theta1 - (self.learning_rate / len(self.dataset) * sum_errors_t1)\n",
    "        self.theta0 = temp0\n",
    "        self.theta1 = temp1\n",
    "\n",
    "\n",
    "    def should_i_keep_learning(self):\n",
    "        cost_is_changing = abs(self.oldcost - self.newcost) > self.minimal_improvement\n",
    "        if (cost_is_changing == False):\n",
    "            if (abs(self.oldcost - self.middle_error()) > self.minimal_improvement):\n",
    "                return True\n",
    "        return cost_is_changing\n",
    "        #  safety net, opti take ze middle\n",
    "        \n",
    "    def training_loop(self):\n",
    "        go_on = True\n",
    "        self.newcost = self.mean_squared_error_dataset()\n",
    "        print(self)\n",
    "        i = 0\n",
    "        while (go_on):\n",
    "            self.oldcost = self.newcost\n",
    "            self.update_thetas()\n",
    "            self.newcost = self.mean_squared_error_dataset()\n",
    "            go_on = self.should_i_keep_learning()\n",
    "            if (self.newcost >= self.oldcost):\n",
    "                self.learning_rate = self.learning_rate * self.learning_rate_decay\n",
    "            # print(self)\n",
    "            i += 1\n",
    "            if (i % 1000 == 0):\n",
    "                print(self)\n",
    "\n",
    "\n",
    "    def __str__(self):\n",
    "        return (f\"error: {self.newcost}, \\tthetas: [{self.theta0}, {self.theta1}], lr: {self.learning_rate}\")\n",
    "\n",
    "    def __repr__(self):\n",
    "        return (f\"error: {self.newcost}, \\tthetas: [{self.theta0}, {self.theta1}], lr: {self.learning_rate}\")\n",
    "        "
   ]
  },
  {
   "cell_type": "code",
   "execution_count": 83,
   "metadata": {
    "tags": []
   },
   "outputs": [],
   "source": [
    "datasetto =  Dataset(path = \"data.csv\")\n",
    "irma = Irma(datasetto)\n",
    "# irma.training_loop()"
   ]
  },
  {
   "cell_type": "code",
   "execution_count": 84,
   "metadata": {},
   "outputs": [
    {
     "output_type": "stream",
     "name": "stdout",
     "text": [
      "0.0\n3650\n\n\n0.0\n3800\n\n\n0.0\n4400\n\n\n0.0\n4450\n\n\n0.0\n5250\n\n\n0.0\n5350\n\n\n0.0\n5800\n\n\n0.0\n5990\n\n\n0.0\n5999\n\n\n0.0\n6200\n\n\n0.0\n6390\n\n\n0.0\n6390\n\n\n0.0\n6600\n\n\n0.0\n6800\n\n\n0.0\n6800\n\n\n0.0\n6900\n\n\n0.0\n6900\n\n\n0.0\n6990\n\n\n0.0\n7490\n\n\n0.0\n7555\n\n\n0.0\n7990\n\n\n0.0\n7990\n\n\n0.0\n7990\n\n\n0.0\n8290\n\n\n"
     ]
    }
   ],
   "source": [
    "for i in range(len(irma.dataset)):\n",
    "    print(irma.predict_price(irma.dataset[i].km))\n",
    "    print(irma.dataset[i].price)\n",
    "    print(\"\\n\")"
   ]
  },
  {
   "cell_type": "code",
   "execution_count": 85,
   "metadata": {},
   "outputs": [
    {
     "output_type": "stream",
     "name": "stdout",
     "text": [
      "km: 61789, price 8290\n"
     ]
    }
   ],
   "source": [
    "print(datasetto[i])"
   ]
  },
  {
   "cell_type": "code",
   "execution_count": 87,
   "metadata": {},
   "outputs": [],
   "source": [
    "a = datasetto[0]"
   ]
  },
  {
   "cell_type": "code",
   "execution_count": null,
   "metadata": {},
   "outputs": [],
   "source": []
  }
 ]
}