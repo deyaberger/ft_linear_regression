{
 "metadata": {
  "language_info": {
   "codemirror_mode": {
    "name": "ipython",
    "version": 3
   },
   "file_extension": ".py",
   "mimetype": "text/x-python",
   "name": "python",
   "nbconvert_exporter": "python",
   "pygments_lexer": "ipython3",
   "version": "3.8.3"
  },
  "orig_nbformat": 2,
  "kernelspec": {
   "name": "python383jvsc74a57bd0b2be0b0f352541e0037497dc3ac059aae78abe45f3eab5e4b80a4fb086df619c",
   "display_name": "Python 3.8.3 64-bit (conda)"
  }
 },
 "nbformat": 4,
 "nbformat_minor": 2,
 "cells": [
  {
   "cell_type": "code",
   "execution_count": 2,
   "metadata": {},
   "outputs": [],
   "source": [
    "import pandas as pd\n",
    "\n",
    "def hypothesis(t0, t1, km):\n",
    "    h = t0 + (t1 * km)\n",
    "    return (h)\n",
    "\n",
    "class Train:\n",
    "    def __init__(self, data):\n",
    "        self.batch_size = data.shape[0]\n",
    "        self.t0 = 0\n",
    "        self.t1 = 0\n",
    "        self.alpha = 0.5\n",
    "\n",
    "    def squared_sum_of_diff(data):\n",
    "        temp = 0\n",
    "        for i in range(self.batch_size):\n",
    "            dif = hypothesis(self.t0, self.t1, data[\"km\"][i]) - data[\"price\"][i]\n",
    "            square = dif * dif\n",
    "            temp += square\n",
    "        return (temp)\n",
    "    \n",
    "    def sum_of_dif_t0(data):\n",
    "        temp = 0\n",
    "        for i in range(self.batch_size):\n",
    "            temp += hypothesis(self.t0, self.t1, data[\"km\"][i]) - data[\"price\"][i]\n",
    "        return (temp)\n",
    "\n",
    "    def sum_of_dif_t1(data):\n",
    "        temp = 0\n",
    "        for i in range(self.batch_size):\n",
    "            temp += (hypothesis(self.t0, self.t1, data[\"km\"][i]) - data[\"price\"][i]) * data[\"km\"][i]\n",
    "        return (temp)\n",
    "    \n",
    "    def calculate_cost(self):\n",
    "        self.cost = (1 / (2 * self.batch_size)) * squared_sum_of_diff(data)\n",
    "\n",
    "    def update_tetas(self):\n",
    "        temp0 = self.t0 - ((self.alpha / self.batch_size) * sum_of_dif_t0(data))\n",
    "        temp1 = self.t1 - ((self.alpha / self.batch_size) * sum_of_dif_t1(data))\n",
    "        self.t0 = temp0\n",
    "        self.t1 = temp1"
   ]
  },
  {
   "cell_type": "code",
   "execution_count": 3,
   "metadata": {},
   "outputs": [],
   "source": [
    "data = pd.read_csv(\"data.csv\")"
   ]
  },
  {
   "cell_type": "code",
   "execution_count": null,
   "metadata": {},
   "outputs": [],
   "source": []
  }
 ]
}